{
 "cells": [
  {
   "cell_type": "markdown",
   "metadata": {
    "collapsed": false
   },
   "source": [
    "## Question 1\n",
    "- Using gutenberg files to do the analysis.\n",
    "- Using glob to open files instead of nltk build in functions.\n",
    "- Generate loglog plot by using matplotlib."
   ]
  },
  {
   "cell_type": "code",
   "execution_count": 1,
   "metadata": {
    "collapsed": true
   },
   "outputs": [],
   "source": [
    "from nltk.corpus import gutenberg\n",
    "from nltk import FreqDist\n",
    "from glob import glob\n",
    "from string import punctuation"
   ]
  },
  {
   "cell_type": "code",
   "execution_count": 39,
   "metadata": {
    "collapsed": false
   },
   "outputs": [],
   "source": [
    "def read_files(file_name):      # Create a function to read files. \n",
    "    with open (file_name, encoding='utf-8', errors=\"ignore\") as file_content:   # Need to deal with unicode problem.\n",
    "        lines = file_content.read()\n",
    "         # Remove punctuations and numbers and save as lowercase\n",
    "        pure_file = ''.join(ch.lower() for ch in lines if ch not in punctuation and ch.isdigit()==False)\n",
    "        words_list = pure_file.split()\n",
    "        return words_list"
   ]
  },
  {
   "cell_type": "code",
   "execution_count": 40,
   "metadata": {
    "collapsed": false
   },
   "outputs": [],
   "source": [
    "words_list = []\n",
    "path = glob('/Users/Nick/nltk_data/corpora/gutenberg/*.txt')    # Use glob to find the path. \n",
    "for file in path:\n",
    "    words_list.extend(read_files(file))"
   ]
  },
  {
   "cell_type": "code",
   "execution_count": 41,
   "metadata": {
    "collapsed": false
   },
   "outputs": [
    {
     "name": "stdout",
     "output_type": "stream",
     "text": [
      "['emma', 'by', 'jane', 'austen', 'volume', 'i', 'chapter', 'i', 'emma', 'woodhouse', 'handsome', 'clever', 'and', 'rich', 'with', 'a', 'comfortable', 'home', 'and', 'happy', 'disposition', 'seemed', 'to', 'unite', 'some', 'of', 'the', 'best', 'blessings', 'of', 'existence', 'and', 'had', 'lived', 'nearly', 'twentyone', 'years', 'in', 'the', 'world', 'with', 'very', 'little', 'to', 'distress', 'or', 'vex', 'her', 'she', 'was']\n"
     ]
    }
   ],
   "source": [
    "print(words_list[:50])"
   ]
  },
  {
   "cell_type": "code",
   "execution_count": 42,
   "metadata": {
    "collapsed": false
   },
   "outputs": [],
   "source": [
    "fd = FreqDist(words_list)    # Get words frequency."
   ]
  },
  {
   "cell_type": "code",
   "execution_count": 43,
   "metadata": {
    "collapsed": false
   },
   "outputs": [
    {
     "name": "stdout",
     "output_type": "stream",
     "text": [
      "2102546\n"
     ]
    }
   ],
   "source": [
    "print(fd.N())"
   ]
  },
  {
   "cell_type": "code",
   "execution_count": 44,
   "metadata": {
    "collapsed": false
   },
   "outputs": [
    {
     "name": "stdout",
     "output_type": "stream",
     "text": [
      "53341\n"
     ]
    }
   ],
   "source": [
    "print(fd.B())"
   ]
  },
  {
   "cell_type": "code",
   "execution_count": 45,
   "metadata": {
    "collapsed": false
   },
   "outputs": [
    {
     "data": {
      "text/plain": [
       "[('the', 133211),\n",
       " ('and', 94787),\n",
       " ('of', 71173),\n",
       " ('to', 47591),\n",
       " ('a', 33573),\n",
       " ('in', 33391),\n",
       " ('i', 28593),\n",
       " ('that', 28241),\n",
       " ('he', 25409),\n",
       " ('it', 21537)]"
      ]
     },
     "execution_count": 45,
     "metadata": {},
     "output_type": "execute_result"
    }
   ],
   "source": [
    "fd.most_common(10)"
   ]
  },
  {
   "cell_type": "code",
   "execution_count": 46,
   "metadata": {
    "collapsed": true
   },
   "outputs": [],
   "source": [
    "freq_list = []"
   ]
  },
  {
   "cell_type": "code",
   "execution_count": 47,
   "metadata": {
    "collapsed": true
   },
   "outputs": [],
   "source": [
    "for word in fd.keys():\n",
    "    freq_list.append([word, fd[word]])  "
   ]
  },
  {
   "cell_type": "code",
   "execution_count": 48,
   "metadata": {
    "collapsed": false
   },
   "outputs": [],
   "source": [
    "sorted_freq_list = sorted(freq_list, key=lambda t:t[1], reverse=True)  "
   ]
  },
  {
   "cell_type": "code",
   "execution_count": 49,
   "metadata": {
    "collapsed": false
   },
   "outputs": [],
   "source": [
    "rank = 1           # Create a Words Rank Frequency list save each elements as a sublist.\n",
    "freq_rank_list = []\n",
    "for word in sorted_freq_list:\n",
    "    word.insert(1,rank)      # Insert rank in the second position.\n",
    "    rank += 1\n",
    "    freq_rank_list.append(word)"
   ]
  },
  {
   "cell_type": "code",
   "execution_count": 50,
   "metadata": {
    "collapsed": false
   },
   "outputs": [
    {
     "name": "stdout",
     "output_type": "stream",
     "text": [
      "[['the', 1, 133211], ['and', 2, 94787], ['of', 3, 71173], ['to', 4, 47591], ['a', 5, 33573], ['in', 6, 33391], ['i', 7, 28593], ['that', 8, 28241], ['he', 9, 25409], ['it', 10, 21537], ['his', 11, 21375], ['for', 12, 19396], ['was', 13, 18647], ['with', 14, 17560], ['not', 15, 17281], ['is', 16, 16343], ['be', 17, 16056], ['you', 18, 15878], ['as', 19, 14464], ['but', 20, 13558], ['all', 21, 13557], ['they', 22, 12983], ['him', 23, 12928], ['shall', 24, 11676], ['her', 25, 11446], ['my', 26, 10462], ['had', 27, 10305], ['them', 28, 10199], ['have', 29, 10100], ['said', 30, 9396], ['me', 31, 9360], ['at', 32, 9134], ['from', 33, 9062], ['unto', 34, 9010], ['she', 35, 8897], ['this', 36, 8848], ['which', 37, 8742], ['on', 38, 8536], ['by', 39, 8457], ['lord', 40, 8441], ['their', 41, 7790], ['so', 42, 7704], ['will', 43, 7311], ['were', 44, 6872], ['are', 45, 6838], ['thou', 46, 6740], ['when', 47, 6296], ['or', 48, 6272], ['one', 49, 6066], ['there', 50, 6032]]\n"
     ]
    }
   ],
   "source": [
    "print(freq_rank_list[:50]) "
   ]
  },
  {
   "cell_type": "code",
   "execution_count": 51,
   "metadata": {
    "collapsed": true
   },
   "outputs": [],
   "source": [
    "import csv"
   ]
  },
  {
   "cell_type": "code",
   "execution_count": 52,
   "metadata": {
    "collapsed": true
   },
   "outputs": [],
   "source": [
    "def create_csv(list,file_name):\n",
    "    with open(file_name,'w') as f:\n",
    "        w = csv.writer(f)\n",
    "        w.writerow([\"Words\",\"Rank\",\"Frequency\"]) # This is a recommanded way. Do not add title in front of your list.\n",
    "        for cell in list:                        # Otherwise your list will not be reuse later. \n",
    "            w.writerow(cell[:])"
   ]
  },
  {
   "cell_type": "code",
   "execution_count": 53,
   "metadata": {
    "collapsed": false
   },
   "outputs": [],
   "source": [
    "create_csv(freq_rank_list, 'Zipfs_law_list.csv')     # Must contains '.csv'"
   ]
  },
  {
   "cell_type": "code",
   "execution_count": 54,
   "metadata": {
    "collapsed": false
   },
   "outputs": [],
   "source": [
    "import matplotlib.pyplot as plt      \n",
    "%matplotlib inline"
   ]
  },
  {
   "cell_type": "code",
   "execution_count": 55,
   "metadata": {
    "collapsed": true
   },
   "outputs": [],
   "source": [
    "ranks = [r[1] for r in freq_rank_list]\n",
    "freqs = [f[2] for f in freq_rank_list]"
   ]
  },
  {
   "cell_type": "code",
   "execution_count": 56,
   "metadata": {
    "collapsed": false
   },
   "outputs": [
    {
     "data": {
      "image/png": "[encoded data removed]",
      "text/plain": [
       "<matplotlib.figure.Figure at 0x1211ed438>"
      ]
     },
     "metadata": {},
     "output_type": "display_data"
    }
   ],
   "source": [
    "# Show word's rank and frequency relationship in log-log plot using matplotlib \n",
    "plt.loglog(ranks, freqs)\n",
    "plt.title('Zipf\\'s Law in NLTK Gutenberg', fontsize=18, fontweight='bold')\n",
    "plt.xlabel('Frequency(freq)', fontsize=14, fontweight='bold')\n",
    "plt.ylabel('Rank(r)', fontsize=14, fontweight='bold')\n",
    "plt.grid(True)\n",
    "plt.show()"
   ]
  },
  {
   "cell_type": "markdown",
   "metadata": {
    "collapsed": true
   },
   "source": [
    "## Conclusion\n",
    "- According to the figure we generated from gutenberg files' words frequency-rank collection. We could easily see that Zipf's Law works in natural language as well. "
   ]
  },
  {
   "cell_type": "code",
   "execution_count": null,
   "metadata": {
    "collapsed": true
   },
   "outputs": [],
   "source": []
  }
 ],
 "metadata": {
  "anaconda-cloud": {},
  "kernelspec": {
   "display_name": "Python [Root]",
   "language": "python",
   "name": "Python [Root]"
  },
  "language_info": {
   "codemirror_mode": {
    "name": "ipython",
    "version": 3
   },
   "file_extension": ".py",
   "mimetype": "text/x-python",
   "name": "python",
   "nbconvert_exporter": "python",
   "pygments_lexer": "ipython3",
   "version": "3.5.2"
  }
 },
 "nbformat": 4,
 "nbformat_minor": 0
}
